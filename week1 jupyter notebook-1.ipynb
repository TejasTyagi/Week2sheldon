{
 "cells": [
  {
   "cell_type": "markdown",
   "metadata": {},
   "source": [
    "#### Week 1 - Programming Fundamentals\n",
    "- Calculating Area of a Circle"
   ]
  },
  {
   "cell_type": "code",
   "execution_count": null,
   "metadata": {},
   "outputs": [],
   "source": [
    "radius = 5.0\n",
    "area = radius * radius * 3.14\n",
    "print(\"Area of a cicle \", area)\n"
   ]
  },
  {
   "cell_type": "markdown",
   "metadata": {},
   "source": [
    "Print with multiple items"
   ]
  },
  {
   "cell_type": "code",
   "execution_count": null,
   "metadata": {},
   "outputs": [],
   "source": [
    "sum=5+3\n",
    "print(\"Hello\", 5, 5*4, sum)\n"
   ]
  },
  {
   "cell_type": "markdown",
   "metadata": {},
   "source": [
    "Assignment statement\n"
   ]
  },
  {
   "cell_type": "code",
   "execution_count": null,
   "metadata": {},
   "outputs": [],
   "source": [
    "# 1 = x\n",
    "# print(x)\n",
    "x = 10\n",
    "y = x+2\n",
    "print(y)"
   ]
  },
  {
   "cell_type": "code",
   "execution_count": null,
   "metadata": {},
   "outputs": [],
   "source": [
    "z=x=y=10\n",
    "print(z,y,x)\n",
    "y=y+2\n",
    "print(z,y,x)\n",
    "x=x+1\n",
    "z=x\n",
    "print(z,y,x)\n",
    "\n"
   ]
  },
  {
   "cell_type": "markdown",
   "metadata": {},
   "source": [
    "Simultaneous Statement"
   ]
  },
  {
   "cell_type": "code",
   "execution_count": null,
   "metadata": {},
   "outputs": [],
   "source": [
    "# x,y,z=10,12,13\n",
    "# print(x,y,z)\n",
    "# x,y,z=10+2, 10*2, 2**3\n",
    "# print(x,y,z)\n",
    "x=10\n",
    "y=12\n",
    "print(\"x =\",x,\"y =\",y)\n",
    "x,y=y,x\n",
    "print(\"x =\",x,\"y =\",y)\n",
    "\n"
   ]
  },
  {
   "cell_type": "markdown",
   "metadata": {},
   "source": [
    "Input Function"
   ]
  },
  {
   "cell_type": "code",
   "execution_count": 1,
   "metadata": {},
   "outputs": [
    {
     "name": "stdout",
     "output_type": "stream",
     "text": [
      "tejas\n"
     ]
    }
   ],
   "source": [
    "v = input(\"Enter your name\")\n",
    "print(v)"
   ]
  },
  {
   "cell_type": "code",
   "execution_count": 2,
   "metadata": {},
   "outputs": [
    {
     "name": "stdout",
     "output_type": "stream",
     "text": [
      "tejas 18\n"
     ]
    }
   ],
   "source": [
    "# r = int(input(\"Enter radius\"))\n",
    "# r = 12\n",
    "# print(r*r*3.14)\n",
    "print(input(\"Enter name\"), input(\"Enter age\"))\n"
   ]
  },
  {
   "cell_type": "markdown",
   "metadata": {},
   "source": [
    "Eval Function"
   ]
  },
  {
   "cell_type": "code",
   "execution_count": 3,
   "metadata": {},
   "outputs": [
    {
     "name": "stdout",
     "output_type": "stream",
     "text": [
      "12\n"
     ]
    }
   ],
   "source": [
    "# v = eval(\"3\")\n",
    "#print(type(v))\n",
    "v = eval(input(\"enter value\"))\n",
    "print(v)"
   ]
  },
  {
   "cell_type": "markdown",
   "metadata": {},
   "source": [
    "Question for input and eval function"
   ]
  },
  {
   "cell_type": "code",
   "execution_count": 4,
   "metadata": {},
   "outputs": [
    {
     "name": "stdout",
     "output_type": "stream",
     "text": [
      "average is 4.0\n"
     ]
    }
   ],
   "source": [
    "number1=eval(input(\"enter the 1st value\"))\n",
    "number2=eval(input(\"enter the 2nd value\"))\n",
    "number3=eval(input(\"enter the 3rd value\"))\n",
    "average= (number1+number2+number3)/3\n",
    "print(\"average is\", average)\n"
   ]
  },
  {
   "cell_type": "markdown",
   "metadata": {},
   "source": [
    "Numeric operators"
   ]
  },
  {
   "cell_type": "code",
   "execution_count": 6,
   "metadata": {},
   "outputs": [
    {
     "name": "stdout",
     "output_type": "stream",
     "text": [
      "2\n",
      "0\n",
      "5\n",
      "1\n"
     ]
    }
   ],
   "source": [
    "print(7%5)\n",
    "print(5%5)\n",
    "print(5%7)\n",
    "print(1%3) #quz 1 question if the number is bigger then it will give back the smallest number"
   ]
  },
  {
   "cell_type": "code",
   "execution_count": 9,
   "metadata": {},
   "outputs": [
    {
     "name": "stdout",
     "output_type": "stream",
     "text": [
      "0\n"
     ]
    }
   ],
   "source": [
    "z= (4+10)%7\n",
    "print(z) #4 is the day today (wednesday), +10 is number of days after you will gonna meet, 0 is day0 (sunday)"
   ]
  },
  {
   "cell_type": "markdown",
   "metadata": {},
   "source": [
    "operator precedence"
   ]
  },
  {
   "cell_type": "code",
   "execution_count": 10,
   "metadata": {},
   "outputs": [
    {
     "name": "stdout",
     "output_type": "stream",
     "text": [
      "7.0\n",
      "512\n"
     ]
    }
   ],
   "source": [
    "print(2**3/ 2 + 3) # exponential (**)\n",
    "print(2**3**2) #this is the only operator which moves rigt to left so 3**2 will be executive first and it will become 2**9"
   ]
  },
  {
   "cell_type": "markdown",
   "metadata": {},
   "source": [
    "    Augemented assignment operator"
   ]
  },
  {
   "cell_type": "code",
   "execution_count": 12,
   "metadata": {},
   "outputs": [
    {
     "name": "stdout",
     "output_type": "stream",
     "text": [
      "11\n"
     ]
    }
   ],
   "source": [
    "a = 10\n",
    "# a=a+1\n",
    "# print(a) # 11 answer\n",
    "a += 1\n",
    "print(a) # 11 answer\n"
   ]
  },
  {
   "cell_type": "code",
   "execution_count": null,
   "metadata": {},
   "outputs": [],
   "source": []
  }
 ],
 "metadata": {
  "kernelspec": {
   "display_name": "base",
   "language": "python",
   "name": "python3"
  },
  "language_info": {
   "codemirror_mode": {
    "name": "ipython",
    "version": 3
   },
   "file_extension": ".py",
   "mimetype": "text/x-python",
   "name": "python",
   "nbconvert_exporter": "python",
   "pygments_lexer": "ipython3",
   "version": "3.12.1"
  }
 },
 "nbformat": 4,
 "nbformat_minor": 2
}
